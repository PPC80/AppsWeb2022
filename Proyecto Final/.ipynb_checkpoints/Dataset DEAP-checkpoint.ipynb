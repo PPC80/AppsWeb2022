{
 "cells": [
  {
   "cell_type": "code",
   "execution_count": 81,
   "id": "5a89c477",
   "metadata": {},
   "outputs": [],
   "source": [
    "import pickle\n",
    "import numpy as np\n",
    "import pandas as pd\n",
    "from sklearn.svm import SVC\n",
    "from sklearn.neighbors import KNeighborsClassifier\n",
    "from sklearn.model_selection import train_test_split\n",
    "from sklearn.preprocessing import StandardScaler\n",
    "from sklearn import model_selection\n",
    "from sklearn.metrics import confusion_matrix\n",
    "from sklearn import metrics\n",
    "from scipy import stats"
   ]
  },
  {
   "cell_type": "markdown",
   "id": "cdadf9d0",
   "metadata": {},
   "source": [
    "# Carga de datos"
   ]
  },
  {
   "cell_type": "code",
   "execution_count": 2,
   "id": "6a80b62d",
   "metadata": {},
   "outputs": [],
   "source": [
    "def read_file(filename):\n",
    "    x = pickle._Unpickler(open(filename, 'rb'))\n",
    "    x.encoding = 'latin1'\n",
    "    p = x.load()\n",
    "    return p"
   ]
  },
  {
   "cell_type": "code",
   "execution_count": 7,
   "id": "e6c0401f",
   "metadata": {},
   "outputs": [
    {
     "name": "stdout",
     "output_type": "stream",
     "text": [
      "['16', '17', '18', '19']\n"
     ]
    }
   ],
   "source": [
    "files = []\n",
    "for n in range(16, 20):\n",
    "    s = ''\n",
    "    if n < 10:\n",
    "        s += '0'\n",
    "    s += str(n)\n",
    "    files.append(s)\n",
    "print(files)"
   ]
  },
  {
   "cell_type": "markdown",
   "id": "30112b80",
   "metadata": {},
   "source": [
    "# Separacion en data y labels"
   ]
  },
  {
   "cell_type": "code",
   "execution_count": 111,
   "id": "af8e3d45",
   "metadata": {},
   "outputs": [
    {
     "name": "stdout",
     "output_type": "stream",
     "text": [
      "Labels:  (160, 4)\n",
      "Data:  (160, 40, 8064)\n"
     ]
    }
   ],
   "source": [
    "labels = []\n",
    "data = []\n",
    "\n",
    "for i in files:\n",
    "    filename = \"s\" + i + \".dat\"\n",
    "    trial = read_file(filename)\n",
    "    labels.append(trial['labels'])\n",
    "    data.append(trial['data'])\n",
    "    \n",
    "    \n",
    "#Re-shape arrays into desired shapes\n",
    "labels = np.array(labels)\n",
    "labels = labels.flatten()\n",
    "labels = labels.reshape(160, 4)\n",
    "\n",
    "data = np.array(data)\n",
    "data = data.flatten()\n",
    "data = data.reshape(160, 40, 8064)\n",
    "\n",
    "print(\"Labels: \", labels.shape) #trial x label\n",
    "print(\"Data: \", data.shape) #trial x channel x data"
   ]
  },
  {
   "cell_type": "markdown",
   "id": "4d8ba9b2",
   "metadata": {},
   "source": [
    "# Extraccion de valencia y arousal"
   ]
  },
  {
   "cell_type": "code",
   "execution_count": 112,
   "id": "8e2d1d52",
   "metadata": {},
   "outputs": [
    {
     "name": "stdout",
     "output_type": "stream",
     "text": [
      "          Valence     Arousal\n",
      "count  160.000000  160.000000\n",
      "mean     5.056625    5.209687\n",
      "std      1.641227    1.603203\n",
      "min      1.000000    1.000000\n",
      "25%      3.867500    3.895000\n",
      "50%      5.040000    5.615000\n",
      "75%      6.352500    6.265000\n",
      "max      7.790000    8.620000\n"
     ]
    },
    {
     "data": {
      "text/html": [
       "<div>\n",
       "<style scoped>\n",
       "    .dataframe tbody tr th:only-of-type {\n",
       "        vertical-align: middle;\n",
       "    }\n",
       "\n",
       "    .dataframe tbody tr th {\n",
       "        vertical-align: top;\n",
       "    }\n",
       "\n",
       "    .dataframe thead th {\n",
       "        text-align: right;\n",
       "    }\n",
       "</style>\n",
       "<table border=\"1\" class=\"dataframe\">\n",
       "  <thead>\n",
       "    <tr style=\"text-align: right;\">\n",
       "      <th></th>\n",
       "      <th>Valence</th>\n",
       "      <th>Arousal</th>\n",
       "    </tr>\n",
       "  </thead>\n",
       "  <tbody>\n",
       "    <tr>\n",
       "      <th>0</th>\n",
       "      <td>2.51</td>\n",
       "      <td>5.65</td>\n",
       "    </tr>\n",
       "    <tr>\n",
       "      <th>1</th>\n",
       "      <td>6.45</td>\n",
       "      <td>5.03</td>\n",
       "    </tr>\n",
       "    <tr>\n",
       "      <th>2</th>\n",
       "      <td>6.74</td>\n",
       "      <td>5.83</td>\n",
       "    </tr>\n",
       "    <tr>\n",
       "      <th>3</th>\n",
       "      <td>7.09</td>\n",
       "      <td>5.67</td>\n",
       "    </tr>\n",
       "    <tr>\n",
       "      <th>4</th>\n",
       "      <td>5.51</td>\n",
       "      <td>7.90</td>\n",
       "    </tr>\n",
       "    <tr>\n",
       "      <th>...</th>\n",
       "      <td>...</td>\n",
       "      <td>...</td>\n",
       "    </tr>\n",
       "    <tr>\n",
       "      <th>155</th>\n",
       "      <td>3.71</td>\n",
       "      <td>5.95</td>\n",
       "    </tr>\n",
       "    <tr>\n",
       "      <th>156</th>\n",
       "      <td>3.15</td>\n",
       "      <td>5.53</td>\n",
       "    </tr>\n",
       "    <tr>\n",
       "      <th>157</th>\n",
       "      <td>1.62</td>\n",
       "      <td>7.58</td>\n",
       "    </tr>\n",
       "    <tr>\n",
       "      <th>158</th>\n",
       "      <td>5.04</td>\n",
       "      <td>5.05</td>\n",
       "    </tr>\n",
       "    <tr>\n",
       "      <th>159</th>\n",
       "      <td>4.24</td>\n",
       "      <td>6.33</td>\n",
       "    </tr>\n",
       "  </tbody>\n",
       "</table>\n",
       "<p>160 rows × 2 columns</p>\n",
       "</div>"
      ],
      "text/plain": [
       "     Valence  Arousal\n",
       "0       2.51     5.65\n",
       "1       6.45     5.03\n",
       "2       6.74     5.83\n",
       "3       7.09     5.67\n",
       "4       5.51     7.90\n",
       "..       ...      ...\n",
       "155     3.71     5.95\n",
       "156     3.15     5.53\n",
       "157     1.62     7.58\n",
       "158     5.04     5.05\n",
       "159     4.24     6.33\n",
       "\n",
       "[160 rows x 2 columns]"
      ]
     },
     "execution_count": 112,
     "metadata": {},
     "output_type": "execute_result"
    }
   ],
   "source": [
    "#Se extraen valencia y arousal\n",
    "df_label_ratings = pd.DataFrame({'Valence': labels[:,0], 'Arousal': labels[:,1]})\n",
    "print(df_label_ratings.describe())\n",
    "df_label_ratings"
   ]
  },
  {
   "cell_type": "markdown",
   "id": "7e46a79d",
   "metadata": {},
   "source": [
    "# One Hot Encoding"
   ]
  },
  {
   "cell_type": "code",
   "execution_count": 113,
   "id": "cc4b7053",
   "metadata": {},
   "outputs": [],
   "source": [
    "# Funcion para checkear si valencia es positivo o negativo\n",
    "def valencia_positiva(trial):\n",
    "    return 1 if labels[trial,0] >= np.median(labels[:,0]) else 0 \n",
    "# Funcion para checkear si cada trial tiene alto o bajo arousal\n",
    "def arousal_alto(trial):\n",
    "    return 1 if labels[trial,1] >= np.median(labels[:,1]) else 0"
   ]
  },
  {
   "cell_type": "code",
   "execution_count": 114,
   "id": "7d9a2304",
   "metadata": {},
   "outputs": [
    {
     "name": "stdout",
     "output_type": "stream",
     "text": [
      "       Valencia Positiva  Arousal Alto\n",
      "count         160.000000     160.00000\n",
      "mean            0.506250       0.50000\n",
      "std             0.501531       0.50157\n",
      "min             0.000000       0.00000\n",
      "25%             0.000000       0.00000\n",
      "50%             1.000000       0.50000\n",
      "75%             1.000000       1.00000\n",
      "max             1.000000       1.00000\n"
     ]
    },
    {
     "data": {
      "text/html": [
       "<div>\n",
       "<style scoped>\n",
       "    .dataframe tbody tr th:only-of-type {\n",
       "        vertical-align: middle;\n",
       "    }\n",
       "\n",
       "    .dataframe tbody tr th {\n",
       "        vertical-align: top;\n",
       "    }\n",
       "\n",
       "    .dataframe thead th {\n",
       "        text-align: right;\n",
       "    }\n",
       "</style>\n",
       "<table border=\"1\" class=\"dataframe\">\n",
       "  <thead>\n",
       "    <tr style=\"text-align: right;\">\n",
       "      <th></th>\n",
       "      <th>Valencia Positiva</th>\n",
       "      <th>Arousal Alto</th>\n",
       "    </tr>\n",
       "  </thead>\n",
       "  <tbody>\n",
       "    <tr>\n",
       "      <th>0</th>\n",
       "      <td>0</td>\n",
       "      <td>1</td>\n",
       "    </tr>\n",
       "    <tr>\n",
       "      <th>1</th>\n",
       "      <td>1</td>\n",
       "      <td>0</td>\n",
       "    </tr>\n",
       "    <tr>\n",
       "      <th>2</th>\n",
       "      <td>1</td>\n",
       "      <td>1</td>\n",
       "    </tr>\n",
       "    <tr>\n",
       "      <th>3</th>\n",
       "      <td>1</td>\n",
       "      <td>1</td>\n",
       "    </tr>\n",
       "    <tr>\n",
       "      <th>4</th>\n",
       "      <td>1</td>\n",
       "      <td>1</td>\n",
       "    </tr>\n",
       "    <tr>\n",
       "      <th>...</th>\n",
       "      <td>...</td>\n",
       "      <td>...</td>\n",
       "    </tr>\n",
       "    <tr>\n",
       "      <th>155</th>\n",
       "      <td>0</td>\n",
       "      <td>1</td>\n",
       "    </tr>\n",
       "    <tr>\n",
       "      <th>156</th>\n",
       "      <td>0</td>\n",
       "      <td>0</td>\n",
       "    </tr>\n",
       "    <tr>\n",
       "      <th>157</th>\n",
       "      <td>0</td>\n",
       "      <td>1</td>\n",
       "    </tr>\n",
       "    <tr>\n",
       "      <th>158</th>\n",
       "      <td>1</td>\n",
       "      <td>0</td>\n",
       "    </tr>\n",
       "    <tr>\n",
       "      <th>159</th>\n",
       "      <td>0</td>\n",
       "      <td>1</td>\n",
       "    </tr>\n",
       "  </tbody>\n",
       "</table>\n",
       "<p>160 rows × 2 columns</p>\n",
       "</div>"
      ],
      "text/plain": [
       "     Valencia Positiva  Arousal Alto\n",
       "0                    0             1\n",
       "1                    1             0\n",
       "2                    1             1\n",
       "3                    1             1\n",
       "4                    1             1\n",
       "..                 ...           ...\n",
       "155                  0             1\n",
       "156                  0             0\n",
       "157                  0             1\n",
       "158                  1             0\n",
       "159                  0             1\n",
       "\n",
       "[160 rows x 2 columns]"
      ]
     },
     "execution_count": 114,
     "metadata": {},
     "output_type": "execute_result"
    }
   ],
   "source": [
    "labels_encoded = []\n",
    "for i in range (len(labels)):\n",
    "    labels_encoded.append([valencia_positiva(i), arousal_alto(i)])\n",
    "labels_encoded = np.reshape(labels_encoded, (160, 2))\n",
    "df_labels = pd.DataFrame(data=labels_encoded, columns=[\"Valencia Positiva\", \"Arousal Alto\"])\n",
    "print(df_labels.describe())\n",
    "df_labels"
   ]
  },
  {
   "cell_type": "code",
   "execution_count": 115,
   "id": "6cbeaf2e",
   "metadata": {},
   "outputs": [],
   "source": [
    "# Dataset solamente con la columna valencia\n",
    "df_valencia = df_labels['Valencia Positiva']\n",
    "# Dataset solamente con la columna arousal\n",
    "df_arousal = df_labels['Arousal Alto']"
   ]
  },
  {
   "cell_type": "markdown",
   "id": "fd77b940",
   "metadata": {},
   "source": [
    "# 32 Canales EEG"
   ]
  },
  {
   "cell_type": "code",
   "execution_count": 116,
   "id": "c63fd56d",
   "metadata": {},
   "outputs": [
    {
     "name": "stdout",
     "output_type": "stream",
     "text": [
      "(160, 32, 8064)\n"
     ]
    }
   ],
   "source": [
    "eeg_canales = np.array([\"Fp1\", \"AF3\", \"F3\", \"F7\", \"FC5\", \"FC1\", \"C3\", \"T7\", \"CP5\", \"CP1\", \"P3\", \"P7\", \"PO3\", \"O1\", \"Oz\", \"Pz\", \"Fp2\", \"AF4\", \"Fz\", \"F4\", \"F8\", \"FC6\", \"FC2\", \"Cz\", \"C4\", \"T8\", \"CP6\", \"CP2\", \"P4\", \"P8\", \"PO4\", \"O2\"])\n",
    "eeg_data = []\n",
    "for i in range (len(data)):\n",
    "    for j in range (len(eeg_canales)):\n",
    "        eeg_data.append(data[i,j])\n",
    "eeg_data = np.reshape(eeg_data, (len(data), len(eeg_canales), len(data[0,0])))\n",
    "print(eeg_data.shape)"
   ]
  },
  {
   "cell_type": "markdown",
   "id": "395ed72e",
   "metadata": {},
   "source": [
    "# Extraccion de caracteristicas"
   ]
  },
  {
   "cell_type": "code",
   "execution_count": 117,
   "id": "f07d0fa7",
   "metadata": {},
   "outputs": [],
   "source": [
    "eeg_caracteristicas = []\n",
    "for i in range(len(data)):\n",
    "    sample_features = []\n",
    "    for j in range(len(eeg_canales)):\n",
    "        channel_data = data[i,j]\n",
    "        channel_mean = np.mean(channel_data)\n",
    "        channel_median = np.median(channel_data)\n",
    "        channel_variance = np.var(channel_data)\n",
    "        channel_kurtosis = stats.kurtosis(channel_data)\n",
    "        sample_features.extend([channel_mean, channel_median, channel_variance, channel_kurtosis])\n",
    "    eeg_caracteristicas.append(sample_features)\n",
    "eeg_caracteristicas = np.array(eeg_caracteristicas)"
   ]
  },
  {
   "cell_type": "markdown",
   "id": "3e9dfb12",
   "metadata": {},
   "source": [
    "# Separacion en training y test, aplicacion de modelos"
   ]
  },
  {
   "cell_type": "code",
   "execution_count": 118,
   "id": "986fd814",
   "metadata": {},
   "outputs": [],
   "source": [
    "# Dividir la data en training y test\n",
    "def split_train_test(x, y):\n",
    "    x_train, x_test, y_train, y_test = train_test_split(x, y, test_size=0.30, random_state=42)\n",
    "    return x_train, x_test, y_train, y_test"
   ]
  },
  {
   "cell_type": "code",
   "execution_count": 119,
   "id": "98c7420c",
   "metadata": {},
   "outputs": [],
   "source": [
    "# Escalado de caracteristicas\n",
    "# Ajusta los datos de entrada para que esten en un rango comun\n",
    "# Evita que características sean dominantes en el modelo solo porque tienen valores de magnitud más grandes\n",
    "def feature_scaling(train, test):\n",
    "    sc = StandardScaler()\n",
    "    train = sc.fit_transform(train)\n",
    "    test = sc.transform(test)\n",
    "    return train, test"
   ]
  },
  {
   "cell_type": "code",
   "execution_count": 120,
   "id": "4b5ca7cb",
   "metadata": {},
   "outputs": [],
   "source": [
    "clf_svm = SVC(kernel = 'linear', random_state = 42, probability=True)\n",
    "clf_knn = KNeighborsClassifier(n_neighbors=5, weights='distance', algorithm='auto')"
   ]
  },
  {
   "cell_type": "code",
   "execution_count": 121,
   "id": "358aa218",
   "metadata": {},
   "outputs": [],
   "source": [
    "models = []\n",
    "models.append(('SVM', clf_svm))\n",
    "models.append(('k-NN', clf_knn))"
   ]
  },
  {
   "cell_type": "code",
   "execution_count": 122,
   "id": "f7b01c5e",
   "metadata": {},
   "outputs": [],
   "source": [
    "import time\n",
    "def cross_validate_clf(df_x, df_y, scoring):\n",
    "    # Train-test split \n",
    "    x_train, x_test, y_train, y_test = split_train_test(df_x, df_y)\n",
    "    # Escalado de caracteristicas\n",
    "    x_train, x_test = feature_scaling(x_train, x_test)\n",
    "    \n",
    "    \"\"\"\n",
    "    model = KNeighborsClassifier(n_neighbors=5, weights='distance', algorithm='auto') # crear el modelo SVM\n",
    "    model.fit(x_train, y_train) # entrenar el modelo con los datos de entrenamiento\n",
    "    y_pred = model.predict(x_test) # hacer predicciones para los datos de prueba\n",
    "    \n",
    "    cm = confusion_matrix(y_test, y_pred)\n",
    "    print(cm)\n",
    "    print(\"Precision: \", metrics.accuracy_score(y_test,y_pred))\n",
    "    \"\"\"\n",
    "\n",
    "    names = []\n",
    "    means = []\n",
    "    stds = []\n",
    "    times = []\n",
    "\n",
    "    for name, model in models:\n",
    "        start_time = time.time()\n",
    "        #Se realiza validacion cruzada con 5 splits, se divide los datos en 5 partes y se entrena el modelo 5 veces\n",
    "        kfold = model_selection.KFold(n_splits=5)\n",
    "        #Calcula la puntuacion de la validacion cruzada\n",
    "        cv_results = model_selection.cross_val_score(model, x_train, y_train, cv=kfold, scoring=scoring)\n",
    "        t = (time.time() - start_time)\n",
    "        times.append(t)\n",
    "        means.append(cv_results.mean())\n",
    "        stds.append(cv_results.std())\n",
    "        names.append(name)\n",
    "    return names, means, stds, times"
   ]
  },
  {
   "cell_type": "code",
   "execution_count": 123,
   "id": "bb49669a",
   "metadata": {},
   "outputs": [
    {
     "data": {
      "text/plain": [
       "(['SVM', 'k-NN'],\n",
       " [0.5098814229249011, 0.5711462450592885],\n",
       " [0.06652773934362366, 0.07381892509045852],\n",
       " [0.0675654411315918, 0.007006645202636719])"
      ]
     },
     "execution_count": 123,
     "metadata": {},
     "output_type": "execute_result"
    }
   ],
   "source": [
    "cross_validate_clf(eeg_caracteristicas, df_arousal, 'accuracy')\n",
    "\n",
    "#Nombre modelo\n",
    "#Precision media de los 5 splits\n",
    "#Desv est.\n",
    "#Tiempo de ejecucion de la validacion cruzada"
   ]
  },
  {
   "cell_type": "code",
   "execution_count": 124,
   "id": "c30ff178",
   "metadata": {},
   "outputs": [
    {
     "data": {
      "text/plain": [
       "(['SVM', 'k-NN'],\n",
       " [0.5438735177865612, 0.6146245059288538],\n",
       " [0.12042953531936247, 0.13566009724688152],\n",
       " [0.053049325942993164, 0.0050051212310791016])"
      ]
     },
     "execution_count": 124,
     "metadata": {},
     "output_type": "execute_result"
    }
   ],
   "source": [
    "cross_validate_clf(eeg_caracteristicas, df_valencia, 'accuracy')"
   ]
  }
 ],
 "metadata": {
  "kernelspec": {
   "display_name": "Python 3 (ipykernel)",
   "language": "python",
   "name": "python3"
  },
  "language_info": {
   "codemirror_mode": {
    "name": "ipython",
    "version": 3
   },
   "file_extension": ".py",
   "mimetype": "text/x-python",
   "name": "python",
   "nbconvert_exporter": "python",
   "pygments_lexer": "ipython3",
   "version": "3.9.12"
  }
 },
 "nbformat": 4,
 "nbformat_minor": 5
}
